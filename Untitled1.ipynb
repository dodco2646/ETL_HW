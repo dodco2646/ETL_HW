{
 "cells": [
  {
   "cell_type": "code",
   "execution_count": 7,
   "metadata": {},
   "outputs": [],
   "source": [
    "# Import python modules and relevant credential for IEX and SQL server from config file.\n",
    "\n",
    "import requests\n",
    "import json\n",
    "import pymysql\n",
    "import pandas as pd\n",
    "from config import iexkey\n",
    "from config import SQL_Credentials\n",
    "from sqlalchemy import create_engine\n",
    "sql_host_port = '@localhost:3306/'\n",
    "querystring = '?token=' + iexkey"
   ]
  },
  {
   "cell_type": "code",
   "execution_count": 21,
   "metadata": {},
   "outputs": [],
   "source": [
    "#Create SQL Engine, Connection, and Session\n",
    "\n",
    "engine = create_engine(f'mysql+pymysql://{SQL_Credentials}{sql_host_port}iexdata_db')\n",
    "conn = engine.connect()\n",
    "from sqlalchemy.orm import Session\n",
    "session = Session(bind=engine)"
   ]
  },
  {
   "cell_type": "code",
   "execution_count": 42,
   "metadata": {},
   "outputs": [
    {
     "data": {
      "text/html": [
       "<div>\n",
       "<style scoped>\n",
       "    .dataframe tbody tr th:only-of-type {\n",
       "        vertical-align: middle;\n",
       "    }\n",
       "\n",
       "    .dataframe tbody tr th {\n",
       "        vertical-align: top;\n",
       "    }\n",
       "\n",
       "    .dataframe thead th {\n",
       "        text-align: right;\n",
       "    }\n",
       "</style>\n",
       "<table border=\"1\" class=\"dataframe\">\n",
       "  <thead>\n",
       "    <tr style=\"text-align: right;\">\n",
       "      <th></th>\n",
       "    </tr>\n",
       "    <tr>\n",
       "      <th>symbol</th>\n",
       "    </tr>\n",
       "  </thead>\n",
       "  <tbody>\n",
       "    <tr>\n",
       "      <th>A</th>\n",
       "    </tr>\n",
       "    <tr>\n",
       "      <th>AAL</th>\n",
       "    </tr>\n",
       "    <tr>\n",
       "      <th>AAP</th>\n",
       "    </tr>\n",
       "    <tr>\n",
       "      <th>AAPL</th>\n",
       "    </tr>\n",
       "    <tr>\n",
       "      <th>ABBV</th>\n",
       "    </tr>\n",
       "  </tbody>\n",
       "</table>\n",
       "</div>"
      ],
      "text/plain": [
       "Empty DataFrame\n",
       "Columns: []\n",
       "Index: [A, AAL, AAP, AAPL, ABBV]"
      ]
     },
     "execution_count": 42,
     "metadata": {},
     "output_type": "execute_result"
    }
   ],
   "source": [
    "# Import CSV of S&P500 symbols obtained from the reliable source \"Wikipedia\"\n",
    "# Change column header to allow for join and reset index to symbol\n",
    "\n",
    "csv_read = pd.read_csv('sandp500list.csv')\n",
    "sandp500list_df = pd.DataFrame(csv_read)\n",
    "renamed_sandp500list_df = sandp500list_df.rename(columns={'Symbol':'symbol'})\n",
    "renamed_sandp500list_dfreset = renamed_sandp500list_df.set_index('symbol')\n",
    "renamed_sandp500list_dfreset.head()"
   ]
  },
  {
   "cell_type": "code",
   "execution_count": null,
   "metadata": {},
   "outputs": [],
   "source": [
    "# Request to the IEX API for ref_data on all securities on 5/15 current listed for trading on the IEX exchange\n",
    "\n",
    "endpoint_refdata_symbols = 'https://cloud.iexapis.com/stable/ref-data/symbols'+ querystring\n",
    "# + ticker + querystring\n",
    "response = requests.get(endpoint_refdata_symbols)\n"
   ]
  },
  {
   "cell_type": "code",
   "execution_count": 46,
   "metadata": {},
   "outputs": [],
   "source": [
    "# Convert the JSON formatted data into Pandas dataframe\n",
    "ref_data_df = pd.DataFrame(response.json())\n",
    "ref_data_head_df = ref_data_df.head()\n",
    "\n",
    "# Inner join to return relevant IEX ref_data for all S&P 500 holdings from the .csv\n",
    "new_df = pd.merge(renamed_sandp500list_dfreset, ref_data_df,on=\"symbol\",how=\"inner\")"
   ]
  },
  {
   "cell_type": "code",
   "execution_count": 47,
   "metadata": {},
   "outputs": [],
   "source": [
    "# Load data into SQL database.\n",
    "new_df.to_sql('sandp500_secmaster', engine, if_exists='replace')"
   ]
  },
  {
   "cell_type": "code",
   "execution_count": null,
   "metadata": {},
   "outputs": [],
   "source": [
    "# this is test code for different endpoints in the IEX API\n",
    "# for ticker in tickers_list:\n",
    "# # Endpoint_key_stats returns elements like market cap\n",
    "#     endpoint_key_stats = \"https://cloud.iexapis.com/stable/stock/\" + ticker + \"/stats\" + querystring\n",
    "# #     endpoint_refdata_symbols = 'https://cloud.iexapis.com/stable/ref-data/' + ticker + querystring\n",
    "#     response = requests.get(endpoint_key_stats)\n",
    "#     print(response.json())"
   ]
  }
 ],
 "metadata": {
  "kernelspec": {
   "display_name": "Python 3",
   "language": "python",
   "name": "python3"
  },
  "language_info": {
   "codemirror_mode": {
    "name": "ipython",
    "version": 3
   },
   "file_extension": ".py",
   "mimetype": "text/x-python",
   "name": "python",
   "nbconvert_exporter": "python",
   "pygments_lexer": "ipython3",
   "version": "3.7.1"
  }
 },
 "nbformat": 4,
 "nbformat_minor": 2
}
